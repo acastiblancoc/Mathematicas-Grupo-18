{
  "cells": [
    {
      "cell_type": "markdown",
      "id": "01f6bcdd",
      "metadata": {
        "id": "01f6bcdd"
      },
      "source": [
        "# Ejercicios Entegrables - Grupo 18"
      ]
    },
    {
      "cell_type": "markdown",
      "id": "55147739-58b4-4333-81b7-eb780f4b5b6a",
      "metadata": {
        "id": "55147739-58b4-4333-81b7-eb780f4b5b6a"
      },
      "source": [
        "**Grupo B -  Diciembre 2024**\n",
        "\n",
        "- Martha Castillo\n",
        "\n",
        "- Alexander Castiblanco"
      ]
    },
    {
      "cell_type": "markdown",
      "id": "5a4fc681",
      "metadata": {
        "id": "5a4fc681"
      },
      "source": [
        "### **Ejercicio 1. Cálculo del determinante de una matriz**"
      ]
    },
    {
      "cell_type": "markdown",
      "id": "6300536e",
      "metadata": {
        "id": "6300536e"
      },
      "source": [
        "a) Implementa una función, determinante recursivo, que obtenga el determinante de una matriz cuadrada utilizando la definición recursiva de Laplace."
      ]
    },
    {
      "cell_type": "code",
      "execution_count": 89,
      "id": "d14d17a6",
      "metadata": {
        "id": "d14d17a6"
      },
      "outputs": [],
      "source": [
        "import numpy as np"
      ]
    },
    {
      "cell_type": "code",
      "execution_count": 90,
      "id": "a446499c",
      "metadata": {
        "id": "a446499c"
      },
      "outputs": [],
      "source": [
        "def determinante_recursivo(matriz):\n",
        "    det = 0\n",
        "    if len(matriz) == len(matriz[0]):\n",
        "        if len(matriz) == 1:\n",
        "            return matriz[0][0]\n",
        "        elif len(matriz) == 2:\n",
        "            return matriz[0][0] * matriz[1][1] - matriz[0][1] * matriz[1][0]\n",
        "        for col in range(len(matriz)):\n",
        "            submatriz = [list(fila[:col]) + list(fila[col+1:]) for fila in matriz[1:]]\n",
        "\n",
        "            det += ((-1) ** (1*col)) * matriz[0][col] * determinante_recursivo(submatriz)\n",
        "    else:\n",
        "        return ('Matriz no es cuadrada')\n",
        "    return det"
      ]
    },
    {
      "cell_type": "code",
      "execution_count": 91,
      "id": "dfc84a8f",
      "metadata": {
        "colab": {
          "base_uri": "https://localhost:8080/"
        },
        "id": "dfc84a8f",
        "outputId": "f235c33f-83f9-4826-c996-51babf6e768e"
      },
      "outputs": [
        {
          "output_type": "stream",
          "name": "stdout",
          "text": [
            "-2\n",
            "8\n",
            "Matriz no es cuadrada\n"
          ]
        }
      ],
      "source": [
        "A = np.array([[1, 2], [3, 4]])\n",
        "B = np.array([[1, 2, 2, 1], [3, 4, 1, 2], [1, 2, 4, 3], [3, 4, 2, 1]])\n",
        "C = np.array([[1, 2, 3], [4, 5, 6]])\n",
        "\n",
        "print(determinante_recursivo(A))\n",
        "print(determinante_recursivo(B))\n",
        "print(determinante_recursivo(C))"
      ]
    },
    {
      "cell_type": "markdown",
      "id": "c5301792",
      "metadata": {
        "id": "c5301792"
      },
      "source": [
        "b) Si A es una matriz cuadrada n×n y triangular (superior o inferior, es decir, con entradas nulas por debajo o por encima de la diagonal, respectivamente), ¿existe alguna forma de calcular de forma directa y sencilla su determinante? Justifíquese la respuesta."
      ]
    },
    {
      "cell_type": "code",
      "execution_count": null,
      "id": "52149b41",
      "metadata": {
        "id": "52149b41"
      },
      "outputs": [],
      "source": [
        "# Sí, la forma de calcular el determinante de forma directa y sencilla en el caso de matrices cuadradas y\n",
        "# triangulares es el producto de los elementos de la diagonal de dicha matriz.\n",
        "# Ya que si por ejemlo usamos la definción vista en clase del determinante:\n",
        "\n",
        "    #det(A) = sum_(n, j=1)(a_ij)^(1+j) * det(A_ij)\n",
        "\n",
        "#Se puede observar que todos los elementos de dicho sumatorio son igual a 0, ya que siempre va haber un elemento o\n",
        "# por debajo de la diagonal o por encima de ella; el único elemento será la diagonal.\n",
        "\n",
        "# A continuación ilustramos dos ejemplos"
      ]
    },
    {
      "cell_type": "code",
      "execution_count": null,
      "id": "54da373d",
      "metadata": {
        "id": "54da373d",
        "outputId": "988f7b4f-5d63-4ba6-8635-dfd6a7ace3b5"
      },
      "outputs": [
        {
          "name": "stdout",
          "output_type": "stream",
          "text": [
            "56\n",
            "1\n",
            "56\n",
            "1\n",
            "True\n",
            "True\n"
          ]
        }
      ],
      "source": [
        "import math\n",
        "\n",
        "T_inf = np.array([[1,0,0], [2,8,0], [4,9,7]])\n",
        "T_sup = np.array([[1,4,2,5,6], [0,1,4,8,-1], [0,0,1,4,3], [0,0,0,1,3], [0,0,0,0,1]])\n",
        "\n",
        "diag_inf = [1,8,7]\n",
        "diag_sup = [1,1,1,1,1]\n",
        "\n",
        "print(determinante_recursivo(T_inf))\n",
        "print(determinante_recursivo(T_sup))\n",
        "print(math.prod(diag_inf))\n",
        "print(math.prod(diag_sup))\n",
        "\n",
        "print(determinante_recursivo(T_inf) == math.prod(diag_inf))\n",
        "print(determinante_recursivo(T_sup) == math.prod(diag_sup))"
      ]
    },
    {
      "cell_type": "markdown",
      "id": "9b16fb77",
      "metadata": {
        "id": "9b16fb77"
      },
      "source": [
        "c) Determínese de forma justificada cómo alteran el determinante de una matriz n×n las dos operaciones elementales siguientes:\n",
        "- Intercambiar una fila (o columna) por otra fila (o columna).\n",
        "- Sumar a una fila (o columna) otra fila (o columna) multiplicada por un escalar α."
      ]
    },
    {
      "cell_type": "code",
      "execution_count": 92,
      "id": "84244e8c",
      "metadata": {
        "colab": {
          "base_uri": "https://localhost:8080/"
        },
        "id": "84244e8c",
        "outputId": "369a2653-2d49-498e-b80a-535bf9dd3885"
      },
      "outputs": [
        {
          "output_type": "stream",
          "name": "stdout",
          "text": [
            "-12\n"
          ]
        }
      ],
      "source": [
        "A = np.array([[1, 2, 3], [-1, 1, 0], [5, -2, -1]]) # matriz original\n",
        "print(determinante_recursivo(A))\n"
      ]
    },
    {
      "cell_type": "code",
      "source": [
        "# 1. Intercambiar una fila (o columna) por otra fila (o columna)\n",
        "\n",
        "# Siendo B la nueva matriz surgida de intercambiar una fila por otra en la matriz A (que en nuestro caso será la\n",
        "# matriz original), el det(B) = -det(A).\n",
        "# Este cambio es debido a que, el determinante es una suma de productos alternantes de los elementos de la matriz\n",
        "# Intercambiar dos filas equivale a realizar una permutación transpuesta en el índice, y una permutación impar (\n",
        "# es decir, solo un cambio) se multiplica el determinante por -1, si fuese par sería por 1.\n",
        "\n",
        "B = np.array([[-1, 1, 0],[1, 2, 3], [5, -2, -1]])  # intercambiamos la primera fila con la segunda\n",
        "print(determinante_recursivo(B))"
      ],
      "metadata": {
        "id": "yOpzT8k-P2Ix",
        "outputId": "ac790f98-1b8a-458b-c483-27ef4506a5a3",
        "colab": {
          "base_uri": "https://localhost:8080/"
        }
      },
      "id": "yOpzT8k-P2Ix",
      "execution_count": 93,
      "outputs": [
        {
          "output_type": "stream",
          "name": "stdout",
          "text": [
            "12\n"
          ]
        }
      ]
    },
    {
      "cell_type": "code",
      "source": [
        "# 2. Sumar a una fila (o columna) otra fila (o columna) multiplicada por un escalar a\n",
        "\n",
        "# Siendo C la nueva matriz surgida de sumar una fila con otra multiplicada por un escalar a, el det(C) = det(A).\n",
        "# En este caso, el determinante no cambia. La propiedad de multilinealidad del determinante establece que el\n",
        "# determinante de una matriz es lineal con respecto a cada fila (o columna) cuando las demás filas (o columnas)\n",
        "# se mantienen constantes. Sumar a una fila otra fila multiplicada por un escalar no modifica las contribuciones\n",
        "# de los productos alternantes en la expansión del determinante. Esto se debe a que la nueva fila resultante es una\n",
        "# combinación lineal que conserva el determinante.\n",
        "\n",
        "C = np.array([[1, 2, 3], [1, 5, 6], [5, -2, -1]]) # sumamos la 1º fila con la 2º, multiplicada la 1º por 2\n",
        "print(determinante_recursivo(C))\n",
        "D = np.array([[1, 2, 3], [-1, 1, 0], [9, 6, 11]]) # sumamos la 1º fila con la 3º, multiplicada la 1º por 4\n",
        "print(determinante_recursivo(D))"
      ],
      "metadata": {
        "id": "a4wxuj4BP58q",
        "outputId": "a9e75a9d-be3f-460a-aa11-5f4cc1467bf6",
        "colab": {
          "base_uri": "https://localhost:8080/"
        }
      },
      "id": "a4wxuj4BP58q",
      "execution_count": 94,
      "outputs": [
        {
          "output_type": "stream",
          "name": "stdout",
          "text": [
            "-12\n",
            "-12\n"
          ]
        }
      ]
    },
    {
      "cell_type": "markdown",
      "id": "66fbd458",
      "metadata": {
        "id": "66fbd458"
      },
      "source": [
        "d) Investiga sobre el método de eliminación de Gauss con pivoteo parcial e impleméntalo para escalonar una matriz (es decir, convertirla en una matriz triangular inferior) a partir de las operaciones elementales descritas en el apartado anterior."
      ]
    },
    {
      "cell_type": "code",
      "execution_count": 95,
      "id": "900952b5",
      "metadata": {
        "id": "900952b5"
      },
      "outputs": [],
      "source": [
        "# # El método de eliminación de Gauss es una técnica para resolver sistemas de ecuaciones lineales, encontrar\n",
        "# inversas de matrices o calcular determinantes. Una de las variantes más comunes y estables de este método es\n",
        "# el pivoteo parcial, que busca minimizar los errores numéricos al trabajar con coeficientes pequeños o muy grandes.\n",
        "\n",
        "# El objetivo del método es transformar una matriz de coeficientes A en una matriz triangular superior U, mediante\n",
        "# operaciones elementales de fila. Las operaciones permitidas son el intercambio de filas, la multiplicación de una\n",
        "# fila por un escalar distinto de cero y la suma de una fila con un múltiplo de otra fila. En cada paso de\n",
        "# eliminación (columna por columna), el pivoteo parcial selecciona como pivote el elemento de mayor valor absoluto\n",
        "# dentro de la columna activa.\n",
        "\n",
        "# Los pasos del método con pivoteo parcial son:\n",
        "    # 1. Seleccionar el pivote: identificar el valor máximo absoluto en la columna activa (desde la fila actual\n",
        "    #    hacia abajo) e intercambiar la fila que contiene este valor con la fila actual.\n",
        "    # 2. Eliminar elementos debajo del Pivote: usar la fila pivote para eliminar todos los elementos debajo de ella\n",
        "    #    en la columna activa, aplicando las operaciones permitidas.\n",
        "    # 3. Repetir el proceso hasta obtener una matriz triangular superior.\n",
        "\n",
        "# Las ventajas del pivoteo parcial son: la estabilidad numérica, minimiza los errores relacionados con divisiones\n",
        "# por valores pequeños y evita amplificaciones de errores; y la simplicidad de implementación, el pivoteo parcial\n",
        "# es más fácil de implementar que el pivoteo completo, que considera tanto filas como columnas."
      ]
    },
    {
      "cell_type": "code",
      "source": [
        "# Ponemos la misma matriz que en el apartado anterior para implementar el método\n",
        "\n",
        "A = np.array([[1, 2, 3], [-1, 1, 0], [5, -2, -1]]) # matriz original\n",
        "print(A)\n",
        "\n",
        "# Sumamos 1º fila y 2º\n",
        "A1 = np.array([[1, 2, 3], [0, 3, 3], [5, -2, -1]])\n",
        "print(A1)\n",
        "\n",
        "# Sumamos 1º fila y 3º, multiplicada la 1º por -5\n",
        "A2 = np.array([[1, 2, 3], [0, 3, 3], [0, -12, -16]])\n",
        "print(A2)\n",
        "\n",
        "# Sumamos 2º fila y 3º, multiplicada la 2º por 4\n",
        "A3 = np.array([[1, 2, 3], [0, 3, 3], [0, 0, -4]])\n",
        "print(A3)\n",
        "\n",
        "\n",
        "# comprobamos también el apartado c) otra vez\n",
        "print(determinante_recursivo(A)==determinante_recursivo(A1))\n",
        "print(determinante_recursivo(A)==determinante_recursivo(A2))\n",
        "print(determinante_recursivo(A)==determinante_recursivo(A3))"
      ],
      "metadata": {
        "id": "sv1IGbSuQDPP",
        "outputId": "6b316a95-5189-4817-e579-fe8fa45487b4",
        "colab": {
          "base_uri": "https://localhost:8080/"
        }
      },
      "id": "sv1IGbSuQDPP",
      "execution_count": 96,
      "outputs": [
        {
          "output_type": "stream",
          "name": "stdout",
          "text": [
            "[[ 1  2  3]\n",
            " [-1  1  0]\n",
            " [ 5 -2 -1]]\n",
            "[[ 1  2  3]\n",
            " [ 0  3  3]\n",
            " [ 5 -2 -1]]\n",
            "[[  1   2   3]\n",
            " [  0   3   3]\n",
            " [  0 -12 -16]]\n",
            "[[ 1  2  3]\n",
            " [ 0  3  3]\n",
            " [ 0  0 -4]]\n",
            "True\n",
            "True\n",
            "True\n"
          ]
        }
      ]
    },
    {
      "cell_type": "markdown",
      "id": "2e059dcd",
      "metadata": {
        "id": "2e059dcd"
      },
      "source": [
        "e) ¿Cómo se podría calcular el determinante de una matriz haciendo beneficio de la estrategia anterior y del efecto de aplicar las operaciones elementales pertinentes? Implementa una nueva función, determinante gauss, que calcule el determinante de una matriz utilizando eliminación gaussiana."
      ]
    },
    {
      "cell_type": "code",
      "execution_count": 98,
      "id": "ad43cbb1",
      "metadata": {
        "id": "ad43cbb1"
      },
      "outputs": [],
      "source": [
        "def determinante_gauss(matriz):\n",
        "    n = len(matriz)\n",
        "    det = 1\n",
        "    if n == len(matriz[0]):\n",
        "\n",
        "        matriz = [list(fila) for fila in matriz]\n",
        "        for i in range(n):\n",
        "            # Buscamos el pivote máximo en la columna actual\n",
        "            max_fila = i\n",
        "            for k in range(i + 1, n):\n",
        "                if abs(matriz[k][i]) > abs(matriz[max_fila][i]):\n",
        "                    max_fila = k\n",
        "\n",
        "            if matriz[max_fila][i] == 0:\n",
        "                det = 0\n",
        "            if max_fila != i:\n",
        "                matriz[i], matriz[max_fila] = matriz[max_fila], matriz[i]\n",
        "                det *= -1  # Cambiar el signo del determinante por el intercambio de filas\n",
        "\n",
        "            # Hacer la eliminación hacia abajo\n",
        "            for k in range(i + 1, n):\n",
        "                factor = matriz[k][i] / matriz[i][i]\n",
        "                for j in range(i, n):\n",
        "                    matriz[k][j] -= factor * matriz[i][j]\n",
        "\n",
        "        for i in range(n):\n",
        "            det *= matriz[i][i]\n",
        "    else:\n",
        "        return ('Matriz no es cuadrada')\n",
        "\n",
        "    return det"
      ]
    },
    {
      "cell_type": "code",
      "execution_count": 99,
      "id": "88c6c6c7",
      "metadata": {
        "colab": {
          "base_uri": "https://localhost:8080/"
        },
        "id": "88c6c6c7",
        "outputId": "1642d96f-0f73-4335-b32d-6c18a336122e"
      },
      "outputs": [
        {
          "output_type": "stream",
          "name": "stdout",
          "text": [
            "-2.0\n",
            "7.999999999999999\n",
            "Matriz no es cuadrada\n"
          ]
        }
      ],
      "source": [
        "A = np.array([[1, 2], [3, 4]])\n",
        "B = np.array([[1, 2, 2, 1], [3, 4, 1, 2], [1, 2, 4, 3], [3, 4, 2, 1]])\n",
        "C = np.array([[1, 2, 3], [4, 5, 6]])\n",
        "\n",
        "print(determinante_gauss(A))\n",
        "print(determinante_gauss(B))\n",
        "print(determinante_gauss(C))"
      ]
    },
    {
      "cell_type": "markdown",
      "id": "25c0116c",
      "metadata": {
        "id": "25c0116c"
      },
      "source": [
        "f) Obtén la complejidad computacional asociada al cálculo del determinante con la definición recursiva y con el método de eliminación de Gauss con pivoteo parcial."
      ]
    },
    {
      "cell_type": "code",
      "execution_count": null,
      "id": "b6632629",
      "metadata": {
        "id": "b6632629"
      },
      "outputs": [],
      "source": [
        "# Definición Recursiva\n",
        "\n",
        "# El proceso que sigue\n",
        "    # 1. Selecciona una fila para la expansión.\n",
        "    # 2. Calcula los determinantes de los menores, que son submatrices (n-1)x(n-1).\n",
        "\n",
        "# La recurrencia para este cálculo es: T(n) = n * T(n-1)\n",
        "# El número de operaciones sigue una progresión geométrica: T(n) = n * (n−1) * (n−2) ... 1 = n!\n",
        "# Por lo tanto, la complejidad es: O(n!)"
      ]
    },
    {
      "cell_type": "code",
      "execution_count": null,
      "id": "a038dd8b",
      "metadata": {
        "id": "a038dd8b"
      },
      "outputs": [],
      "source": [
        "# Método de Gauss\n",
        "\n",
        "# Su complejidad proviene de tres operaciones principales:\n",
        "\n",
        "# 1. Selección del pivote (pivoteo parcial):\n",
        "    # Encontrar el elemento de mayor valor absoluto en la columna. Esto requiere recorrer n−k elementos para la\n",
        "    # columna k, y se hace para cada una de las n columnas. Complejidad: O(n^2).\n",
        "\n",
        "# 2. Eliminación hacia abajo (hacer ceros debajo del pivote):\n",
        "    # Para cada fila i>k, se eliminan los elementos de la columna actual, lo que implica operar sobre (n−k−1) filas\n",
        "    # y (n−k) columnas.\n",
        "    # Complejidad acumulativa: O(n^3) (por las sumas y multiplicaciones necesarias).\n",
        "\n",
        "# 3. Producto de los elementos de la diagonal:\n",
        "    # Es una operación lineal con complejidad O(n).\n",
        "\n",
        "# La operación dominante es la eliminación hacia abajo, que define la complejidad total: O(n^3)."
      ]
    },
    {
      "cell_type": "markdown",
      "id": "8db89969",
      "metadata": {
        "id": "8db89969"
      },
      "source": [
        "g) Utilizando numpy.random.rand, genera matrices cuadradas aleatorias de la forma An ∈ Rn×n, para 2 ≤ n ≤ 10, y confecciona una tabla comparativa del tiempo de ejecución asociado a cada una de las variantes siguientes, interpretando los resultados:\n",
        "1. Utilizando determinante recursivo.\n",
        "2. Empleando determinante gauss.\n",
        "3. Haciendo uso de la función preprogramada numpy.linalg.det."
      ]
    },
    {
      "cell_type": "code",
      "execution_count": null,
      "id": "f5a02a12",
      "metadata": {
        "id": "f5a02a12",
        "outputId": "ca84f299-2b28-48a7-f94e-464d29d928de"
      },
      "outputs": [
        {
          "name": "stdout",
          "output_type": "stream",
          "text": [
            "Tamaño    Recursivo (s)       Gauss (s)           NumPy (s)           \n",
            "2         0.000007            0.000024            0.000096            \n",
            "3         0.000064            0.000018            0.000072            \n",
            "4         0.000093            0.000026            0.000029            \n",
            "5         0.000330            0.000037            0.000027            \n",
            "6         0.001862            0.000057            0.000059            \n",
            "7         0.009504            0.000067            0.000049            \n",
            "8         0.066832            0.000115            0.000075            \n",
            "9         0.618732            0.000105            0.000061            \n",
            "10        5.766963            0.000124            0.000059            \n"
          ]
        }
      ],
      "source": [
        "import random\n",
        "import time\n",
        "\n",
        "resultados = []\n",
        "\n",
        "def medir_tiempo_ejecucion(func, matriz):\n",
        "    inicio = time.time()\n",
        "    func(matriz)\n",
        "    fin = time.time()\n",
        "    return fin - inicio\n",
        "\n",
        "for i in range(2,11):\n",
        "    matriz = list(np.random.rand(i,i))\n",
        "    det_rec = determinante_recursivo(matriz)\n",
        "    det_g = determinante_gauss(matriz)\n",
        "    det_np = np.linalg.det(matriz)\n",
        "    tiempo_recursivo = medir_tiempo_ejecucion(determinante_recursivo, matriz)\n",
        "    tiempo_gauss = medir_tiempo_ejecucion(determinante_gauss, matriz)\n",
        "    tiempo_np = medir_tiempo_ejecucion(np.linalg.det, matriz)\n",
        "    resultados.append((i, tiempo_recursivo, tiempo_gauss, tiempo_np))\n",
        "\n",
        "# Tabla\n",
        "print(f\"{'Tamaño':<10}{'Recursivo (s)':<20}{'Gauss (s)':<20}{'NumPy (s)':<20}\")\n",
        "for n, t_rec, t_gauss, t_np in resultados:\n",
        "    print(f\"{n:<10}{t_rec:<20.6f}{t_gauss:<20.6f}{t_np:<20.6f}\")"
      ]
    },
    {
      "cell_type": "code",
      "execution_count": null,
      "id": "a50be157",
      "metadata": {
        "id": "a50be157"
      },
      "outputs": [],
      "source": [
        "# Resultados\n",
        "\n",
        "# Viendo los resultados de la tabla, podemos observar que según se aumenta el tamaño de la matriz el que menos\n",
        "# tarda es numpy.linalg.det, como es lógico ya que ya está optimizada al máximo.\n",
        "# También se ve de un vistazo como el método recursivo es muy impráctico, ya que es el que más tarda, porque como\n",
        "# hemos dicho en el ejercicio anterior su complejidad es de O(n!), pero la de Gauss es de O(n^3) y se puede ver\n",
        "# como para matrices pequeñas da un buen resultado, si es verdad que para las más grandes será mejor opción\n",
        "# numpy.linalg.det, pero nuestra segunda mejor opción sería el método de Gauss."
      ]
    },
    {
      "cell_type": "markdown",
      "id": "85a305b5",
      "metadata": {
        "id": "85a305b5"
      },
      "source": [
        "## Ejercicio 2. Descenso del Gradiente"
      ]
    },
    {
      "cell_type": "markdown",
      "id": "7c1eef5d",
      "metadata": {
        "id": "7c1eef5d"
      },
      "source": [
        "a) Prográmese en Python el método de descenso de gradiente para funciones de n variables. La función deberá tener como parámetros de entradas:\n",
        "- El gradiente de la función que se desea minimizar ∇f (puede venir dada como otra función previamente implementada, grad f, con entrada un vector, representando el punto donde se quiere calcular el gradiente, y salida otro vector, representando el gradiente de f en dicho punto).\n",
        "- Un valor inicial x0 ∈ Rn (almacenado en un vector de n componentes). El ratio de aprendizaje γ (que se asume constante para cada iteración).\n",
        "- Un parámetro de tolerancia tol (con el que finalizar el proceso cuando ∥∇f(x)∥2 < tol).\n",
        "- Un número máximo de iteraciones maxit (con el fin de evitar ejecuciones indefinidas en caso de divergencia o convergencia muy lenta).\n",
        "\n",
        "La salida de la función deberá ser la aproximación del x que cumple f′(x) ≈ 0, correspondiente a la última iteración realizada en el método."
      ]
    },
    {
      "cell_type": "code",
      "source": [
        "# Funcion principal del gradiente\n",
        "\n",
        "import numpy as np\n",
        "\n",
        "def descenso_gradiente(grad_f , x0 , gamma , tol , maxit):\n",
        "\n",
        "    x = x0  # Punto inicial\n",
        "    for i in range(maxit):\n",
        "        gradiente = grad_f(x)  # Calcula el gradiente en el punto actual\n",
        "        norma_gradiente = abs(gradiente)  # Usa la norma absoluta para una variable\n",
        "        if norma_gradiente < tol:\n",
        "            print(f\"Convergió en {i} iteraciones. Norma del gradiente: {norma_gradiente:.6e}\")\n",
        "            return x\n",
        "        x -= gamma * gradiente  # Actualiza el punto x\n",
        "    print(f\"Se alcanzó el número máximo de iteraciones ({maxit}). Norma del gradiente final: {norma_gradiente:.6e}\")\n",
        "    return x"
      ],
      "metadata": {
        "id": "KS5yxLaq4xbe"
      },
      "id": "KS5yxLaq4xbe",
      "execution_count": 62,
      "outputs": []
    },
    {
      "cell_type": "markdown",
      "id": "b72891b9",
      "metadata": {
        "id": "b72891b9"
      },
      "source": [
        "b) Sea la función f: R → R dada por f(x)=3x4 +4x3 −12x2 +7.\n",
        "\n",
        "i.  Aplica el método sobre f(x) con x0 = 3 γ = 0.001, tol=1e-12, maxit=1e5.\n",
        "\n",
        "ii. Aplica de nuevo el método sobre f(x) con x0 = 3, γ = 0.01, tol=1e-12, maxit=1e5.\n",
        "\n",
        "iii. Contrasta e interpreta los dos resultados obtenidos en los apartados anteriores y compáralos con los mínimos locales obtenidos analíticamente. ¿Qué influencia puede llegar a tener la elección del ratio de aprendizaje γ?\n",
        "\n",
        "iv. Aplica nuevamente el método sobre f(x) con x0 = 3, γ = 0.1, tol=1e-12, maxit=1e5. Interpreta el resultado.\n",
        "\n",
        "v. Finalmente, aplica el método sobre f(x) con x0 = 0, γ = 0.001, tol=1e-12,maxit=1e5. Interpreta elresultado y compáralo con el estudio analítico de f. ¿Se trata de un resultado deseable? ¿Por qué? ¿A qué se debe este fenómeno?\n"
      ]
    },
    {
      "cell_type": "code",
      "execution_count": 76,
      "id": "1fecd9df",
      "metadata": {
        "colab": {
          "base_uri": "https://localhost:8080/"
        },
        "id": "1fecd9df",
        "outputId": "7e2881c7-83fa-4d25-c1df-8aa29e5db59a"
      },
      "outputs": [
        {
          "output_type": "stream",
          "name": "stdout",
          "text": [
            "Convergió en 831 iteraciones. Norma del gradiente: 9.912071e-13\n",
            "Punto i. Para los parametros sobre f(x) con x0 = 3 γ = 0.001, tol=1e-12, maxit=1e5 donde f(x) = 3x^4 + 4x^3 - 12x^2 + 7\n",
            " \n",
            "El resultado para el polinomio es: 1.0000000000000275\n"
          ]
        }
      ],
      "source": [
        "#Sea la función f: R → R dada por f(x)=3x4 +4x3 −12x2 +7\n",
        "# Aplica el método sobre f(x) con x0 = 3 γ = 0.001, tol=1e-12, maxit=1e5\n",
        "\n",
        "# Crea la funcion\n",
        "def funcion(x):\n",
        "    # f(x) = 3x^4 + 4x^3 - 12x^2 + 7\n",
        "    return 3 * x**4 + 4 * x**3 - 12 * x**2 + 7\n",
        "\n",
        "def derivada_funcion(x):\n",
        "    # f'(x) = 12x^3 + 12x^2 - 24x\n",
        "    return 12 * x**3 + 12 * x**2 - 24 * x\n",
        "\n",
        "# Parámetros para el descenso de gradiente\n",
        "punto_inicial = 3.0\n",
        "tasa_aprendizaje = 0.001\n",
        "tolerancia = 1e-12\n",
        "iteraciones_max = int(1e5)\n",
        "\n",
        "\n",
        "# Usar el método ajustado directamente con los parámetros proporcionados\n",
        "resultado_polinomio = descenso_gradiente(\n",
        "    grad_f=derivada_funcion,x0=punto_inicial,\n",
        "    gamma=tasa_aprendizaje,tol=tolerancia,maxit=iteraciones_max)\n",
        "\n",
        "print(\"Punto i. Para los parametros sobre f(x) con x0 = 3 γ = 0.001, tol=1e-12, maxit=1e5 donde f(x) = 3x^4 + 4x^3 - 12x^2 + 7\" )\n",
        "print(\" \")\n",
        "print(\"El resultado para el polinomio es:\", resultado_polinomio)\n",
        "\n"
      ]
    },
    {
      "cell_type": "code",
      "execution_count": 77,
      "id": "999d10b0",
      "metadata": {
        "colab": {
          "base_uri": "https://localhost:8080/"
        },
        "id": "999d10b0",
        "outputId": "336d6dd3-3b98-4265-93ae-4382d09608a0"
      },
      "outputs": [
        {
          "output_type": "stream",
          "name": "stdout",
          "text": [
            "Convergió en 31 iteraciones. Norma del gradiente: 8.384404e-13\n",
            "Punto ii. Para los parametros sobre f(x) con x0 = 3 γ = 0.01, tol=1e-12, maxit=1e5 donde f(x) = 3x^4 + 4x^3 - 12x^2 + 7\n",
            " \n",
            "El resultado para el polinomio es: -1.9999999999999882\n"
          ]
        }
      ],
      "source": [
        "# ii)Aplica de nuevo el método sobre f(x) con x0 = 3, γ = 0.01, tol=1e-12, maxit=1e5.\n",
        "\n",
        "punto_inicial = 3.0\n",
        "tasa_aprendizaje = 0.01\n",
        "tolerancia = 1e-12\n",
        "iteraciones_max = int(1e5)\n",
        "\n",
        "\n",
        "# Usar el método ajustado directamente con los parámetros proporcionados\n",
        "resultado_polinomio = descenso_gradiente(\n",
        "    grad_f=derivada_funcion,x0=punto_inicial,\n",
        "    gamma=tasa_aprendizaje,tol=tolerancia,maxit=iteraciones_max)\n",
        "\n",
        "print(\"Punto ii. Para los parametros sobre f(x) con x0 = 3 γ = 0.01, tol=1e-12, maxit=1e5 donde f(x) = 3x^4 + 4x^3 - 12x^2 + 7\" )\n",
        "print(\" \")\n",
        "print(\"El resultado para el polinomio es:\", resultado_polinomio)"
      ]
    },
    {
      "cell_type": "markdown",
      "source": [
        "**iii) Contrasta e interpreta los dos resultados obtenidos en los apartados anteriores y compáralos con los mínimos locales obtenidos analíticamente. ¿Qué influencia puede llegar a tener la elección del ratio de aprendizaje γ?**\n",
        "\n",
        "***Analisis***\n",
        "\n",
        "𝛾, define el tamano de los pasos entre mas pequeno mayor precision, pero requiere de un numero mayor de iteracciones.\n",
        "\n",
        "Como se observa en los ejercicios anteriores con un 𝛾=0.001 se utilizaron 831 iteracciones comparadas con las 31 requeridas para un 𝛾=0.01\n",
        "\n",
        "El ratio de aprendizaje (𝛾) afecta la velocidad de convergencia y la estabilidad del método\n",
        "\n"
      ],
      "metadata": {
        "id": "7uxrcYE9-l8o"
      },
      "id": "7uxrcYE9-l8o"
    },
    {
      "cell_type": "code",
      "execution_count": 78,
      "id": "dc1c12f1",
      "metadata": {
        "colab": {
          "base_uri": "https://localhost:8080/",
          "height": 370
        },
        "id": "dc1c12f1",
        "outputId": "12d3e1ee-d8ff-47df-fcb7-dc50a129b862"
      },
      "outputs": [
        {
          "output_type": "error",
          "ename": "OverflowError",
          "evalue": "(34, 'Numerical result out of range')",
          "traceback": [
            "\u001b[0;31m---------------------------------------------------------------------------\u001b[0m",
            "\u001b[0;31mOverflowError\u001b[0m                             Traceback (most recent call last)",
            "\u001b[0;32m<ipython-input-78-a4d94f96d4c7>\u001b[0m in \u001b[0;36m<cell line: 10>\u001b[0;34m()\u001b[0m\n\u001b[1;32m      8\u001b[0m \u001b[0;34m\u001b[0m\u001b[0m\n\u001b[1;32m      9\u001b[0m \u001b[0;31m# Usar el método ajustado directamente con los parámetros proporcionados\u001b[0m\u001b[0;34m\u001b[0m\u001b[0;34m\u001b[0m\u001b[0m\n\u001b[0;32m---> 10\u001b[0;31m resultado_polinomio = descenso_gradiente(\n\u001b[0m\u001b[1;32m     11\u001b[0m     \u001b[0mgrad_f\u001b[0m\u001b[0;34m=\u001b[0m\u001b[0mderivada_funcion\u001b[0m\u001b[0;34m,\u001b[0m\u001b[0mx0\u001b[0m\u001b[0;34m=\u001b[0m\u001b[0mpunto_inicial\u001b[0m\u001b[0;34m,\u001b[0m\u001b[0;34m\u001b[0m\u001b[0;34m\u001b[0m\u001b[0m\n\u001b[1;32m     12\u001b[0m     gamma=tasa_aprendizaje,tol=tolerancia,maxit=iteraciones_max)\n",
            "\u001b[0;32m<ipython-input-62-102d1e7366a7>\u001b[0m in \u001b[0;36mdescenso_gradiente\u001b[0;34m(grad_f, x0, gamma, tol, maxit)\u001b[0m\n\u001b[1;32m      8\u001b[0m     \u001b[0mx\u001b[0m \u001b[0;34m=\u001b[0m \u001b[0mx0\u001b[0m  \u001b[0;31m# Punto inicial\u001b[0m\u001b[0;34m\u001b[0m\u001b[0;34m\u001b[0m\u001b[0m\n\u001b[1;32m      9\u001b[0m     \u001b[0;32mfor\u001b[0m \u001b[0mi\u001b[0m \u001b[0;32min\u001b[0m \u001b[0mrange\u001b[0m\u001b[0;34m(\u001b[0m\u001b[0mmaxit\u001b[0m\u001b[0;34m)\u001b[0m\u001b[0;34m:\u001b[0m\u001b[0;34m\u001b[0m\u001b[0;34m\u001b[0m\u001b[0m\n\u001b[0;32m---> 10\u001b[0;31m         \u001b[0mgradiente\u001b[0m \u001b[0;34m=\u001b[0m \u001b[0mgrad_f\u001b[0m\u001b[0;34m(\u001b[0m\u001b[0mx\u001b[0m\u001b[0;34m)\u001b[0m  \u001b[0;31m# Calcular el gradiente en el punto actual\u001b[0m\u001b[0;34m\u001b[0m\u001b[0;34m\u001b[0m\u001b[0m\n\u001b[0m\u001b[1;32m     11\u001b[0m         \u001b[0mnorma_gradiente\u001b[0m \u001b[0;34m=\u001b[0m \u001b[0mabs\u001b[0m\u001b[0;34m(\u001b[0m\u001b[0mgradiente\u001b[0m\u001b[0;34m)\u001b[0m  \u001b[0;31m# Usar la norma absoluta para una variable\u001b[0m\u001b[0;34m\u001b[0m\u001b[0;34m\u001b[0m\u001b[0m\n\u001b[1;32m     12\u001b[0m         \u001b[0;32mif\u001b[0m \u001b[0mnorma_gradiente\u001b[0m \u001b[0;34m<\u001b[0m \u001b[0mtol\u001b[0m\u001b[0;34m:\u001b[0m\u001b[0;34m\u001b[0m\u001b[0;34m\u001b[0m\u001b[0m\n",
            "\u001b[0;32m<ipython-input-76-6634364b1563>\u001b[0m in \u001b[0;36mderivada_funcion\u001b[0;34m(x)\u001b[0m\n\u001b[1;32m      9\u001b[0m \u001b[0;32mdef\u001b[0m \u001b[0mderivada_funcion\u001b[0m\u001b[0;34m(\u001b[0m\u001b[0mx\u001b[0m\u001b[0;34m)\u001b[0m\u001b[0;34m:\u001b[0m\u001b[0;34m\u001b[0m\u001b[0;34m\u001b[0m\u001b[0m\n\u001b[1;32m     10\u001b[0m     \u001b[0;31m# f'(x) = 12x^3 + 12x^2 - 24x\u001b[0m\u001b[0;34m\u001b[0m\u001b[0;34m\u001b[0m\u001b[0m\n\u001b[0;32m---> 11\u001b[0;31m     \u001b[0;32mreturn\u001b[0m \u001b[0;36m12\u001b[0m \u001b[0;34m*\u001b[0m \u001b[0mx\u001b[0m\u001b[0;34m**\u001b[0m\u001b[0;36m3\u001b[0m \u001b[0;34m+\u001b[0m \u001b[0;36m12\u001b[0m \u001b[0;34m*\u001b[0m \u001b[0mx\u001b[0m\u001b[0;34m**\u001b[0m\u001b[0;36m2\u001b[0m \u001b[0;34m-\u001b[0m \u001b[0;36m24\u001b[0m \u001b[0;34m*\u001b[0m \u001b[0mx\u001b[0m\u001b[0;34m\u001b[0m\u001b[0;34m\u001b[0m\u001b[0m\n\u001b[0m\u001b[1;32m     12\u001b[0m \u001b[0;34m\u001b[0m\u001b[0m\n\u001b[1;32m     13\u001b[0m \u001b[0;31m# Parámetros para el descenso de gradiente\u001b[0m\u001b[0;34m\u001b[0m\u001b[0;34m\u001b[0m\u001b[0m\n",
            "\u001b[0;31mOverflowError\u001b[0m: (34, 'Numerical result out of range')"
          ]
        }
      ],
      "source": [
        "# iv)Aplica nuevamente el método sobre f(x) con x0 = 3, γ = 0.1, tol=1e-12, maxit=1e5. Interpreta el resultado.\n",
        "\n",
        "punto_inicial = 3.0\n",
        "tasa_aprendizaje = 0.1 #Cuando la tasa es mas grande se vuelve divergente y genera error\n",
        "tolerancia = 1e-12\n",
        "iteraciones_max = int(1e5)\n",
        "\n",
        "\n",
        "# Usar el método ajustado directamente con los parámetros proporcionados\n",
        "resultado_polinomio = descenso_gradiente(\n",
        "    grad_f=derivada_funcion,x0=punto_inicial,\n",
        "    gamma=tasa_aprendizaje,tol=tolerancia,maxit=iteraciones_max)\n",
        "\n",
        "print(\"Punto iv. Para los parametros sobre f(x) con x0 = 3 γ = 0.1, tol=1e-12, maxit=1e5 donde f(x) = 3x^4 + 4x^3 - 12x^2 + 7\" )\n",
        "print(\" \")\n",
        "print(\"El resultado para el polinomio es:\", resultado_polinomio)\n"
      ]
    },
    {
      "cell_type": "markdown",
      "source": [
        "**iv. Aplica nuevamente el método sobre f(x) con x0 = 3, γ = 0.1**\n",
        "\n",
        "**Analisis**\n",
        "\n",
        "En este caso γ es 10 veces mayor que en la interaccio de γ=0.01.\n",
        "\n",
        "En este caso el γ es demasiado grande y al correrlo en la funcion sale error, lo que significa que el metodo empieza a oscilar alrededor del mínimo local en lugar de converger o incluso podria alejarse.\n",
        "\n",
        "\n"
      ],
      "metadata": {
        "id": "0QwJeXUK9u8m"
      },
      "id": "0QwJeXUK9u8m"
    },
    {
      "cell_type": "code",
      "execution_count": 79,
      "id": "9ba2a754",
      "metadata": {
        "colab": {
          "base_uri": "https://localhost:8080/"
        },
        "id": "9ba2a754",
        "outputId": "d31dd929-0229-478c-c7b5-1d9ea6d827cd"
      },
      "outputs": [
        {
          "output_type": "stream",
          "name": "stdout",
          "text": [
            "Convergió en 0 iteraciones. Norma del gradiente: 0.000000e+00\n",
            "Punto v. Parametros con x0 = 0, γ = 0.001, tol=1e-12,maxit=1e5 donde f(x) = 3x^4 + 4x^3 - 12x^2 + 7\n",
            " \n",
            "El resultado para el polinomio es: 0\n"
          ]
        }
      ],
      "source": [
        "# v) Finalmente, aplica el método sobre f(x) con x0 = 0, γ = 0.001, tol=1e-12,maxit=1e5.\n",
        "\n",
        "punto_inicial = 0\n",
        "tasa_aprendizaje = 0.001 #Cuando la tasa es mas grande se vuelve divergente y genera error\n",
        "tolerancia = 1e-12\n",
        "iteraciones_max = int(1e5)\n",
        "\n",
        "#Llamado de la funcion de descenso de gradiente\n",
        "resultado_polinomio = descenso_gradiente(\n",
        "    grad_f=derivada_funcion,x0=punto_inicial,\n",
        "    gamma=tasa_aprendizaje,tol=tolerancia,maxit=iteraciones_max)\n",
        "\n",
        "print(\"Punto v. Parametros con x0 = 0, γ = 0.001, tol=1e-12,maxit=1e5 donde f(x) = 3x^4 + 4x^3 - 12x^2 + 7\" )\n",
        "print(\" \")\n",
        "print(\"El resultado para el polinomio es:\", resultado_polinomio)\n"
      ]
    },
    {
      "cell_type": "markdown",
      "source": [
        "***Analisis para el punto V. ***\n",
        "\n",
        "Al reemplazar x en la funcion como x vale 0, el algoritmo de descenso de gradiente detecta que se ha alcanzado un punto estacionario en la primera iteración.\n",
        "\n",
        "La tasa de aprendizaje (γ) y la tolerancia no afectan el resultado en este caso porque el punto inicial 𝑥0=0 ya es estacionario.\n"
      ],
      "metadata": {
        "id": "0muJEW2NBnhS"
      },
      "id": "0muJEW2NBnhS"
    },
    {
      "cell_type": "markdown",
      "source": [
        "***************************************************************************"
      ],
      "metadata": {
        "id": "vju0zMOJGF-V"
      },
      "id": "vju0zMOJGF-V"
    },
    {
      "cell_type": "markdown",
      "id": "25b86828",
      "metadata": {
        "id": "25b86828"
      },
      "source": [
        "c) Sea la función g : R2 → R dada por g(x,y)=x2 +y3 +3xy+1.\n",
        "\n",
        "i. Aplíquese el método sobre g(x,y) con x0 = (−1,1), γ = 0.01, tol=1e-12, maxit=1e5.\n",
        "\n",
        "ii. ¿Qué ocurre si ahora partimos de x0 = (0, 0)? ¿Se obtiene un resultado deseable?\n",
        "\n",
        "iii. Realícese el estudio analítico de la función y utilícese para explicar y contrastar los resultados obtenidos en los dos apartados anteriores."
      ]
    },
    {
      "cell_type": "code",
      "execution_count": 82,
      "id": "aa337141",
      "metadata": {
        "colab": {
          "base_uri": "https://localhost:8080/"
        },
        "id": "aa337141",
        "outputId": "cd506cc4-a9b3-4125-a535-0994e1d623f2"
      },
      "outputs": [
        {
          "output_type": "stream",
          "name": "stdout",
          "text": [
            "Convergió en 3139 iteraciones. Norma del gradiente: 9.986957e-13\n",
            "Resultado para la función g(x, y): [-2.25  1.5 ]\n"
          ]
        }
      ],
      "source": [
        "# i)Sea la función g : R2 → R dada por g(x,y)=x2 +y3 +3xy+1.\n",
        "# Aplíquese el método sobre g(x,y) con x0 = (−1,1), γ = 0.01, tol=1e-12, maxit=1e5.\n",
        "\n",
        "import numpy as np\n",
        "\n",
        "def descenso_gradiente_multi(grad_g, x0, gamma, tol, maxit):\n",
        "\n",
        "    x = np.array(x0, dtype=float)\n",
        "    for i in range(maxit):\n",
        "        gradiente = np.array(grad_g(x))\n",
        "        norma_gradiente = np.linalg.norm(gradiente, ord=2)\n",
        "        if norma_gradiente < tol:\n",
        "            print(f\"Convergió en {i} iteraciones. Norma del gradiente: {norma_gradiente:.6e}\")\n",
        "            return x\n",
        "        x -= gamma * gradiente\n",
        "    print(f\"Se alcanzó el número máximo de iteraciones ({maxit}). Norma del gradiente final: {norma_gradiente:.6e}\")\n",
        "    return x\n",
        "\n",
        "\n",
        "# Se crea la funcion para F(x) = x2 +y3 +3xy+1.\n",
        "def funcion_g(xy):\n",
        "    x, y = xy\n",
        "    return x**2 + y**3 + 3*x*y + 1\n",
        "\n",
        "# Se realiza la derivada de X y Y\n",
        "def gradiente_g(xy):\n",
        "    x, y = xy\n",
        "    grad_x = 2 * x + 3 * y\n",
        "    grad_y = 3 * y**2 + 3 * x\n",
        "    return [grad_x, grad_y]\n",
        "\n",
        "# Parámetros\n",
        "punto_inicial = [-1, 1]\n",
        "tasa_aprendizaje = 0.01\n",
        "tolerancia = 1e-12\n",
        "iteraciones_max = int(1e5)\n",
        "\n",
        "# Aplica la funcion de desceso de gradiente\n",
        "resultado = descenso_gradiente_multi(\n",
        "    grad_g=gradiente_g,\n",
        "    x0=punto_inicial,\n",
        "    gamma=tasa_aprendizaje,\n",
        "    tol=tolerancia,\n",
        "    maxit=iteraciones_max\n",
        ")\n",
        "\n",
        "# Resultado final\n",
        "print(\"Resultado para la función g(x, y):\", resultado)\n",
        "\n"
      ]
    },
    {
      "cell_type": "code",
      "execution_count": 83,
      "id": "a22465ee",
      "metadata": {
        "colab": {
          "base_uri": "https://localhost:8080/"
        },
        "id": "a22465ee",
        "outputId": "37b9b8eb-d9bd-4db7-9b17-68e8ee0c182b"
      },
      "outputs": [
        {
          "output_type": "stream",
          "name": "stdout",
          "text": [
            "Convergió en 0 iteraciones. Norma del gradiente: 0.000000e+00\n",
            "Resultado para la función g(x, y): [0. 0.]\n"
          ]
        }
      ],
      "source": [
        "# ii)ii. ¿Qué ocurre si ahora partimos de x0 = (0, 0)? ¿Se obtiene un resultado deseable?\n",
        "\n",
        "# Parámetros\n",
        "punto_inicial = [0,0]\n",
        "tasa_aprendizaje = 0.01\n",
        "tolerancia = 1e-12\n",
        "iteraciones_max = int(1e5)\n",
        "\n",
        "# Aplica la funcion de desceso de gradiente\n",
        "resultado = descenso_gradiente_multi(\n",
        "    grad_g=gradiente_g,\n",
        "    x0=punto_inicial,\n",
        "    gamma=tasa_aprendizaje,\n",
        "    tol=tolerancia,\n",
        "    maxit=iteraciones_max\n",
        ")\n",
        "\n",
        "# Resultado final\n",
        "print(\"Resultado para la función g(x, y):\", resultado)"
      ]
    },
    {
      "cell_type": "markdown",
      "source": [
        "**Realícese el estudio analítico de la función y utilícese para explicar y contrastar los resultados obtenidos en los dos apartados anteriores.**\n",
        "\n",
        "El gradiente en (0,0) es cero, lo que significa que (0,0) es un punto estacionario.\n",
        "\n",
        "La funcion no proporciona un resultado deseable porque:\n",
        "\n",
        "El método identifica(0,0) como un punto estacionario.\n",
        "Este punto es un punto de silla, no un mínimo ni máximo local."
      ],
      "metadata": {
        "id": "mkrcZEVJG_SH"
      },
      "id": "mkrcZEVJG_SH"
    }
  ],
  "metadata": {
    "kernelspec": {
      "display_name": "Python 3 (ipykernel)",
      "language": "python",
      "name": "python3"
    },
    "language_info": {
      "codemirror_mode": {
        "name": "ipython",
        "version": 3
      },
      "file_extension": ".py",
      "mimetype": "text/x-python",
      "name": "python",
      "nbconvert_exporter": "python",
      "pygments_lexer": "ipython3",
      "version": "3.11.7"
    },
    "colab": {
      "provenance": []
    }
  },
  "nbformat": 4,
  "nbformat_minor": 5
}