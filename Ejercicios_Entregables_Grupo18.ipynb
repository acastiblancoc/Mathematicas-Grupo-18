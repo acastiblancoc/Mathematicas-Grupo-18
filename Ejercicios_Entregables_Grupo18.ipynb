{
  "cells": [
    {
      "cell_type": "markdown",
      "id": "01f6bcdd",
      "metadata": {
        "id": "01f6bcdd"
      },
      "source": [
        "# Ejercicios Entegrables - Grupo 18"
      ]
    },
    {
      "cell_type": "markdown",
      "id": "55147739-58b4-4333-81b7-eb780f4b5b6a",
      "metadata": {
        "id": "55147739-58b4-4333-81b7-eb780f4b5b6a"
      },
      "source": [
        "- Martha Castillo\n",
        "\n",
        "- Alexander Castiblanco"
      ]
    },
    {
      "cell_type": "markdown",
      "id": "5a4fc681",
      "metadata": {
        "id": "5a4fc681"
      },
      "source": [
        "### **Ejercicio 1. Cálculo del determinante de una matriz**"
      ]
    },
    {
      "cell_type": "markdown",
      "id": "6300536e",
      "metadata": {
        "id": "6300536e"
      },
      "source": [
        "a) Implementa una función, determinante recursivo, que obtenga el determinante de una matriz cuadrada utilizando la definición recursiva de Laplace."
      ]
    },
    {
      "cell_type": "code",
      "execution_count": null,
      "id": "a446499c",
      "metadata": {
        "id": "a446499c"
      },
      "outputs": [],
      "source": [
        "def determinante_recursivo(matriz):\n",
        "    det = 0\n",
        "    if len(matriz) == len(matriz[0]):\n",
        "        if len(matriz) == 1:\n",
        "            return matriz[0][0]\n",
        "        elif len(matriz) == 2:\n",
        "            return matriz[0][0] * matriz[1][1] - matriz[0][1] * matriz[1][0]\n",
        "        for col in range(len(matriz)):\n",
        "            submatriz = [list(fila[:col]) + list(fila[col+1:]) for fila in matriz[1:]]\n",
        "\n",
        "            det += ((-1) ** (1*col)) * matriz[0][col] * determinante_recursivo(submatriz)\n",
        "    else:\n",
        "        return ('Matriz no es cuadrada')\n",
        "    return det"
      ]
    },
    {
      "cell_type": "code",
      "execution_count": null,
      "id": "d14d17a6",
      "metadata": {
        "id": "d14d17a6"
      },
      "outputs": [],
      "source": [
        "import numpy as np"
      ]
    },
    {
      "cell_type": "code",
      "execution_count": null,
      "id": "dfc84a8f",
      "metadata": {
        "id": "dfc84a8f",
        "outputId": "72a176b5-7214-41cd-e2f6-f66e65ee6e53"
      },
      "outputs": [
        {
          "name": "stdout",
          "output_type": "stream",
          "text": [
            "-2\n",
            "8\n",
            "Matriz no es cuadrada\n"
          ]
        }
      ],
      "source": [
        "A = np.array([[1, 2], [3, 4]])\n",
        "B = np.array([[1, 2, 2, 1], [3, 4, 1, 2], [1, 2, 4, 3], [3, 4, 2, 1]])\n",
        "C = np.array([[1, 2, 3], [4, 5, 6]])\n",
        "\n",
        "print(determinante_recursivo(A))\n",
        "print(determinante_recursivo(B))\n",
        "print(determinante_recursivo(C))"
      ]
    },
    {
      "cell_type": "markdown",
      "id": "c5301792",
      "metadata": {
        "id": "c5301792"
      },
      "source": [
        "b) Si A es una matriz cuadrada n×n y triangular (superior o inferior, es decir, con entradas nulas por debajo o por encima de la diagonal, respectivamente), ¿existe alguna forma de calcular de forma directa y sencilla su determinante? Justifíquese la respuesta."
      ]
    },
    {
      "cell_type": "code",
      "execution_count": null,
      "id": "52149b41",
      "metadata": {
        "id": "52149b41"
      },
      "outputs": [],
      "source": [
        "# Sí, la forma de calcular el determinante de forma directa y sencilla en el caso de matrices cuadradas y\n",
        "# triangulares es el producto de los elementos de la diagonal de dicha matriz.\n",
        "# Ya que si por ejemlo usamos la definción vista en clase del determinante:\n",
        "\n",
        "    #det(A) = sum_(n, j=1)(a_ij)^(1+j) * det(A_ij)\n",
        "\n",
        "#Se puede observar que todos los elementos de dicho sumatorio son igual a 0, ya que siempre va haber un elemento o\n",
        "# por debajo de la diagonal o por encima de ella; el único elemento será la diagonal.\n",
        "\n",
        "# A continuación ilustramos dos ejemplos"
      ]
    },
    {
      "cell_type": "code",
      "execution_count": null,
      "id": "54da373d",
      "metadata": {
        "id": "54da373d",
        "outputId": "988f7b4f-5d63-4ba6-8635-dfd6a7ace3b5"
      },
      "outputs": [
        {
          "name": "stdout",
          "output_type": "stream",
          "text": [
            "56\n",
            "1\n",
            "56\n",
            "1\n",
            "True\n",
            "True\n"
          ]
        }
      ],
      "source": [
        "import math\n",
        "\n",
        "T_inf = np.array([[1,0,0], [2,8,0], [4,9,7]])\n",
        "T_sup = np.array([[1,4,2,5,6], [0,1,4,8,-1], [0,0,1,4,3], [0,0,0,1,3], [0,0,0,0,1]])\n",
        "\n",
        "diag_inf = [1,8,7]\n",
        "diag_sup = [1,1,1,1,1]\n",
        "\n",
        "print(determinante_recursivo(T_inf))\n",
        "print(determinante_recursivo(T_sup))\n",
        "print(math.prod(diag_inf))\n",
        "print(math.prod(diag_sup))\n",
        "\n",
        "print(determinante_recursivo(T_inf) == math.prod(diag_inf))\n",
        "print(determinante_recursivo(T_sup) == math.prod(diag_sup))"
      ]
    },
    {
      "cell_type": "markdown",
      "id": "9b16fb77",
      "metadata": {
        "id": "9b16fb77"
      },
      "source": [
        "c) Determínese de forma justificada cómo alteran el determinante de una matriz n×n las dos operaciones elementales siguientes:\n",
        "- Intercambiar una fila (o columna) por otra fila (o columna).\n",
        "- Sumar a una fila (o columna) otra fila (o columna) multiplicada por un escalar α."
      ]
    },
    {
      "cell_type": "code",
      "execution_count": null,
      "id": "84244e8c",
      "metadata": {
        "id": "84244e8c"
      },
      "outputs": [],
      "source": [
        "# FALTA"
      ]
    },
    {
      "cell_type": "markdown",
      "id": "66fbd458",
      "metadata": {
        "id": "66fbd458"
      },
      "source": [
        "d) Investiga sobre el método de eliminación de Gauss con pivoteo parcial e impleméntalo para escalonar una matriz (es decir, convertirla en una matriz triangular inferior) a partir de las operaciones elementales descritas en el apartado anterior."
      ]
    },
    {
      "cell_type": "code",
      "execution_count": null,
      "id": "900952b5",
      "metadata": {
        "id": "900952b5"
      },
      "outputs": [],
      "source": [
        "# FALTA"
      ]
    },
    {
      "cell_type": "markdown",
      "id": "2e059dcd",
      "metadata": {
        "id": "2e059dcd"
      },
      "source": [
        "e) ¿Cómo se podría calcular el determinante de una matriz haciendo beneficio de la estrategia anterior y del efecto de aplicar las operaciones elementales pertinentes? Implementa una nueva función, determinante gauss, que calcule el determinante de una matriz utilizando eliminación gaussiana."
      ]
    },
    {
      "cell_type": "code",
      "execution_count": null,
      "id": "ad43cbb1",
      "metadata": {
        "id": "ad43cbb1"
      },
      "outputs": [],
      "source": [
        "def determinante_gauss(matriz):\n",
        "    n = len(matriz)\n",
        "    det = 1\n",
        "    if n == len(matriz[0]):\n",
        "\n",
        "        matriz = [list(fila) for fila in matriz]\n",
        "        for i in range(n):\n",
        "            # Buscamos el pivote máximo en la columna actual\n",
        "            max_fila = i\n",
        "            for k in range(i + 1, n):\n",
        "                if abs(matriz[k][i]) > abs(matriz[max_fila][i]):\n",
        "                    max_fila = k\n",
        "\n",
        "            if matriz[max_fila][i] == 0:\n",
        "                det = 0\n",
        "            if max_fila != i:\n",
        "                matriz[i], matriz[max_fila] = matriz[max_fila], matriz[i]\n",
        "                det *= -1  # Cambiar el signo del determinante por el intercambio de filas\n",
        "\n",
        "            # Hacer la eliminación hacia abajo\n",
        "            for k in range(i + 1, n):\n",
        "                factor = matriz[k][i] / matriz[i][i]\n",
        "                for j in range(i, n):\n",
        "                    matriz[k][j] -= factor * matriz[i][j]\n",
        "\n",
        "        for i in range(n):\n",
        "            det *= matriz[i][i]\n",
        "    else:\n",
        "        return ('Matriz no es cuadrada')\n",
        "\n",
        "    return det"
      ]
    },
    {
      "cell_type": "code",
      "execution_count": null,
      "id": "88c6c6c7",
      "metadata": {
        "id": "88c6c6c7",
        "outputId": "c70f70f6-3c5c-417c-c866-28e9f610c762"
      },
      "outputs": [
        {
          "name": "stdout",
          "output_type": "stream",
          "text": [
            "-2.0\n",
            "7.999999999999999\n",
            "Matriz no es cuadrada\n"
          ]
        }
      ],
      "source": [
        "A = np.array([[1, 2], [3, 4]])\n",
        "B = np.array([[1, 2, 2, 1], [3, 4, 1, 2], [1, 2, 4, 3], [3, 4, 2, 1]])\n",
        "C = np.array([[1, 2, 3], [4, 5, 6]])\n",
        "\n",
        "print(determinante_gauss(A))\n",
        "print(determinante_gauss(B))\n",
        "print(determinante_gauss(C))"
      ]
    },
    {
      "cell_type": "markdown",
      "id": "25c0116c",
      "metadata": {
        "id": "25c0116c"
      },
      "source": [
        "f) Obtén la complejidad computacional asociada al cálculo del determinante con la definición recursiva y con el método de eliminación de Gauss con pivoteo parcial."
      ]
    },
    {
      "cell_type": "code",
      "execution_count": null,
      "id": "b6632629",
      "metadata": {
        "id": "b6632629"
      },
      "outputs": [],
      "source": [
        "# Definición Recursiva\n",
        "\n",
        "# El proceso que sigue\n",
        "    # 1. Selecciona una fila para la expansión.\n",
        "    # 2. Calcula los determinantes de los menores, que son submatrices (n-1)x(n-1).\n",
        "\n",
        "# La recurrencia para este cálculo es: T(n) = n * T(n-1)\n",
        "# El número de operaciones sigue una progresión geométrica: T(n) = n * (n−1) * (n−2) ... 1 = n!\n",
        "# Por lo tanto, la complejidad es: O(n!)"
      ]
    },
    {
      "cell_type": "code",
      "execution_count": null,
      "id": "a038dd8b",
      "metadata": {
        "id": "a038dd8b"
      },
      "outputs": [],
      "source": [
        "# Método de Gauss\n",
        "\n",
        "# Su complejidad proviene de tres operaciones principales:\n",
        "\n",
        "# 1. Selección del pivote (pivoteo parcial):\n",
        "    # Encontrar el elemento de mayor valor absoluto en la columna. Esto requiere recorrer n−k elementos para la\n",
        "    # columna k, y se hace para cada una de las n columnas. Complejidad: O(n^2).\n",
        "\n",
        "# 2. Eliminación hacia abajo (hacer ceros debajo del pivote):\n",
        "    # Para cada fila i>k, se eliminan los elementos de la columna actual, lo que implica operar sobre (n−k−1) filas\n",
        "    # y (n−k) columnas.\n",
        "    # Complejidad acumulativa: O(n^3) (por las sumas y multiplicaciones necesarias).\n",
        "\n",
        "# 3. Producto de los elementos de la diagonal:\n",
        "    # Es una operación lineal con complejidad O(n).\n",
        "\n",
        "# La operación dominante es la eliminación hacia abajo, que define la complejidad total: O(n^3)."
      ]
    },
    {
      "cell_type": "markdown",
      "id": "8db89969",
      "metadata": {
        "id": "8db89969"
      },
      "source": [
        "g) Utilizando numpy.random.rand, genera matrices cuadradas aleatorias de la forma An ∈ Rn×n, para 2 ≤ n ≤ 10, y confecciona una tabla comparativa del tiempo de ejecución asociado a cada una de las variantes siguientes, interpretando los resultados:\n",
        "1. Utilizando determinante recursivo.\n",
        "2. Empleando determinante gauss.\n",
        "3. Haciendo uso de la función preprogramada numpy.linalg.det."
      ]
    },
    {
      "cell_type": "code",
      "execution_count": null,
      "id": "f5a02a12",
      "metadata": {
        "id": "f5a02a12",
        "outputId": "ca84f299-2b28-48a7-f94e-464d29d928de"
      },
      "outputs": [
        {
          "name": "stdout",
          "output_type": "stream",
          "text": [
            "Tamaño    Recursivo (s)       Gauss (s)           NumPy (s)           \n",
            "2         0.000007            0.000024            0.000096            \n",
            "3         0.000064            0.000018            0.000072            \n",
            "4         0.000093            0.000026            0.000029            \n",
            "5         0.000330            0.000037            0.000027            \n",
            "6         0.001862            0.000057            0.000059            \n",
            "7         0.009504            0.000067            0.000049            \n",
            "8         0.066832            0.000115            0.000075            \n",
            "9         0.618732            0.000105            0.000061            \n",
            "10        5.766963            0.000124            0.000059            \n"
          ]
        }
      ],
      "source": [
        "import random\n",
        "import time\n",
        "\n",
        "resultados = []\n",
        "\n",
        "def medir_tiempo_ejecucion(func, matriz):\n",
        "    inicio = time.time()\n",
        "    func(matriz)\n",
        "    fin = time.time()\n",
        "    return fin - inicio\n",
        "\n",
        "for i in range(2,11):\n",
        "    matriz = list(np.random.rand(i,i))\n",
        "    det_rec = determinante_recursivo(matriz)\n",
        "    det_g = determinante_gauss(matriz)\n",
        "    det_np = np.linalg.det(matriz)\n",
        "    tiempo_recursivo = medir_tiempo_ejecucion(determinante_recursivo, matriz)\n",
        "    tiempo_gauss = medir_tiempo_ejecucion(determinante_gauss, matriz)\n",
        "    tiempo_np = medir_tiempo_ejecucion(np.linalg.det, matriz)\n",
        "    resultados.append((i, tiempo_recursivo, tiempo_gauss, tiempo_np))\n",
        "\n",
        "# Tabla\n",
        "print(f\"{'Tamaño':<10}{'Recursivo (s)':<20}{'Gauss (s)':<20}{'NumPy (s)':<20}\")\n",
        "for n, t_rec, t_gauss, t_np in resultados:\n",
        "    print(f\"{n:<10}{t_rec:<20.6f}{t_gauss:<20.6f}{t_np:<20.6f}\")"
      ]
    },
    {
      "cell_type": "code",
      "execution_count": null,
      "id": "a50be157",
      "metadata": {
        "id": "a50be157"
      },
      "outputs": [],
      "source": [
        "# Resultados\n",
        "\n",
        "# Viendo los resultados de la tabla, podemos observar que según se aumenta el tamaño de la matriz el que menos\n",
        "# tarda es numpy.linalg.det, como es lógico ya que ya está optimizada al máximo.\n",
        "# También se ve de un vistazo como el método recursivo es muy impráctico, ya que es el que más tarda, porque como\n",
        "# hemos dicho en el ejercicio anterior su complejidad es de O(n!), pero la de Gauss es de O(n^3) y se puede ver\n",
        "# como para matrices pequeñas da un buen resultado, si es verdad que para las más grandes será mejor opción\n",
        "# numpy.linalg.det, pero nuestra segunda mejor opción sería el método de Gauss."
      ]
    },
    {
      "cell_type": "markdown",
      "id": "85a305b5",
      "metadata": {
        "id": "85a305b5"
      },
      "source": [
        "## Ejercicio 2. Descenso del Gradiente"
      ]
    },
    {
      "cell_type": "markdown",
      "id": "7c1eef5d",
      "metadata": {
        "id": "7c1eef5d"
      },
      "source": [
        "a) Prográmese en Python el método de descenso de gradiente para funciones de n variables. La función deberá tener como parámetros de entradas:\n",
        "- El gradiente de la función que se desea minimizar ∇f (puede venir dada como otra función previamente implementada, grad f, con entrada un vector, representando el punto donde se quiere calcular el gradiente, y salida otro vector, representando el gradiente de f en dicho punto).\n",
        "- Un valor inicial x0 ∈ Rn (almacenado en un vector de n componentes). El ratio de aprendizaje γ (que se asume constante para cada iteración).\n",
        "- Un parámetro de tolerancia tol (con el que finalizar el proceso cuando ∥∇f(x)∥2 < tol).\n",
        "- Un número máximo de iteraciones maxit (con el fin de evitar ejecuciones indefinidas en caso de divergencia o convergencia muy lenta).\n",
        "\n",
        "La salida de la función deberá ser la aproximación del x que cumple f′(x) ≈ 0, correspondiente a la última iteración realizada en el método."
      ]
    },
    {
      "cell_type": "code",
      "execution_count": 2,
      "id": "47dd910a",
      "metadata": {
        "id": "47dd910a"
      },
      "outputs": [],
      "source": [
        "# Alex en Construccion:\n",
        "\"\"\"\n",
        "    Método de descenso de gradiente para minimizar una función de n variables.\n",
        "\n",
        "    Parámetros de entrada a la funcion llamada descenso_gradiente:\n",
        "    grad_f : Función que calcula el gradiente de f en un punto dado.\n",
        "    x0 : (Tipo numpy.ndarray) Punto inicial (vector de n componentes).\n",
        "    gamma : (tipo float) Tasa de aprendizaje\n",
        "    tol : (float) Tolerancia para el criterio de parada (cuando ∥∇f(x)∥2 < tol).\n",
        "    maxit : (Tipo integer)  Número máximo de iteraciones.\n",
        "\n",
        "    Retorna:\n",
        "    numpy.ndarray\n",
        "        Aproximación del punto x que minimiza f (es decir, cumple que ∇f(x) ≈ 0).\n",
        "\"\"\"\n",
        "import numpy as np\n",
        "\n",
        "def descenso_gradiente(grad_f, x0, gamma, tol, maxit):\n",
        "\n",
        "    # Convertir el punto inicial a un array de tipo float\n",
        "    x = np.array(x0, dtype=float)\n",
        "\n",
        "    for i in range(maxit):\n",
        "        # Calcula el gradiente en el punto actual\n",
        "        gradiente = np.array(grad_f(x))\n",
        "\n",
        "        # Calcula la norma euclidiana (L2) del gradiente\n",
        "        norma_gradiente = np.linalg.norm(gradiente, ord=2)\n",
        "\n",
        "        # Verifica si la norma del gradiente es menor que la tolerancia\n",
        "        if norma_gradiente < tol:\n",
        "            print(f\"Convergió en {i} iteraciones. Norma del gradiente: {norma_gradiente:.6f}\")\n",
        "            return x  # Retornar el punto actual como solución\n",
        "\n",
        "        # Actualizar el punto x usando el gradiente y la tasa de aprendizaje\n",
        "        x -= gamma * gradiente\n",
        "\n",
        "    # Si se alcanzó el número máximo de iteraciones, mostrar un mensaje\n",
        "    print(f\"Se alcanzó el número máximo de iteraciones ({maxit}). Norma del gradiente final: {norma_gradiente:.6f}\")\n",
        "    return x"
      ]
    },
    {
      "cell_type": "code",
      "execution_count": 12,
      "id": "38bc9cd8-2b6b-4bc1-9bbe-f68681293c48",
      "metadata": {
        "id": "38bc9cd8-2b6b-4bc1-9bbe-f68681293c48",
        "outputId": "e1b95721-a1ac-47a4-f483-166e6cc2a3c9",
        "colab": {
          "base_uri": "https://localhost:8080/"
        }
      },
      "outputs": [
        {
          "output_type": "stream",
          "name": "stdout",
          "text": [
            "Se alcanzó el número máximo de iteraciones (1000). Norma del gradiente final: 0.000046\n",
            "Punto que minimiza la función: [0.00330281 0.00330281]\n"
          ]
        }
      ],
      "source": [
        "# Prueba de la funcion de Descenso del Gradiente\n",
        "# Para este ejemplo vamos a usar la funcion cubica\n",
        "#Pero podemos ajustar la funcion por otras funciones coomo:\n",
        "# Solo debemos reemplazar la funcion en gradiente por la funccion que deseemos como la logaritmica, trigonometrica u otra\n",
        "\n",
        "# creamos la funcion gardiente que tiene los parametros de la funcion\n",
        "def gradiente(x):\n",
        "     return np.array([3 * x[0]**2, 3 * x[1]**2]) # f(x) = x1^3 + x2^3\n",
        "\n",
        "# Parámetros para el descenso de gradiente\n",
        "punto_inicial = [1.0, 1.0]  # Punto inicial\n",
        "tasa_aprendizaje = 0.1      # Tasa de aprendizaje\n",
        "tolerancia = 1e-6           # Tolerancia\n",
        "iteraciones_max = 1000      # Número máximo de iteraciones\n",
        "\n",
        "# Ejecutar el método de descenso de gradiente\n",
        "resultado = descenso_gradiente(gradiente, punto_inicial, tasa_aprendizaje, tolerancia, iteraciones_max)\n",
        "\n",
        "# Imprimir el resultado final\n",
        "print(\"Punto que minimiza la función:\", resultado)"
      ]
    },
    {
      "cell_type": "markdown",
      "id": "b72891b9",
      "metadata": {
        "id": "b72891b9"
      },
      "source": [
        "b) Sea la función f: R → R dada por f(x)=3x4 +4x3 −12x2 +7.\n",
        "\n",
        "i.  Aplica el método sobre f(x) con x0 = 3 γ = 0.001, tol=1e-12, maxit=1e5.\n",
        "\n",
        "ii. Aplica de nuevo el método sobre f(x) con x0 = 3, γ = 0.01, tol=1e-12, maxit=1e5.\n",
        "\n",
        "iii. Contrasta e interpreta los dos resultados obtenidos en los apartados anteriores y compáralos con los mínimos locales obtenidos analíticamente. ¿Qué influencia puede llegar a tener la elección del ratio de aprendizaje γ?\n",
        "\n",
        "iv. Aplica nuevamente el método sobre f(x) con x0 = 3, γ = 0.1, tol=1e-12, maxit=1e5. Interpreta el resultado.\n",
        "\n",
        "v. Finalmente, aplica el método sobre f(x) con x0 = 0, γ = 0.001, tol=1e-12,maxit=1e5. Interpreta elresultado y compáralo con el estudio analítico de f. ¿Se trata de un resultado deseable? ¿Por qué? ¿A qué se debe este fenómeno?\n"
      ]
    },
    {
      "cell_type": "code",
      "execution_count": null,
      "id": "1fecd9df",
      "metadata": {
        "id": "1fecd9df"
      },
      "outputs": [],
      "source": [
        "# i) Sea la función f: R → R dada por f(x)=3x4 +4x3 −12x2 +7\n",
        "# Aplica el método sobre f(x) con x0 = 3 γ = 0.001, tol=1e-12, maxit=1e5.\n",
        "\n",
        "\n"
      ]
    },
    {
      "cell_type": "code",
      "execution_count": null,
      "id": "999d10b0",
      "metadata": {
        "id": "999d10b0"
      },
      "outputs": [],
      "source": [
        "# ii)\n",
        "\n",
        "#FALTA"
      ]
    },
    {
      "cell_type": "code",
      "execution_count": null,
      "id": "132fcd48",
      "metadata": {
        "id": "132fcd48"
      },
      "outputs": [],
      "source": [
        "# iii)\n",
        "\n",
        "#FALTA"
      ]
    },
    {
      "cell_type": "code",
      "execution_count": null,
      "id": "dc1c12f1",
      "metadata": {
        "id": "dc1c12f1"
      },
      "outputs": [],
      "source": [
        "# iv)\n",
        "\n",
        "#FALTA"
      ]
    },
    {
      "cell_type": "code",
      "execution_count": null,
      "id": "9ba2a754",
      "metadata": {
        "id": "9ba2a754"
      },
      "outputs": [],
      "source": [
        "# v)\n",
        "\n",
        "#FALTA"
      ]
    },
    {
      "cell_type": "markdown",
      "id": "25b86828",
      "metadata": {
        "id": "25b86828"
      },
      "source": [
        "c) Sea la función g : R2 → R dada por g(x,y)=x2 +y3 +3xy+1.\n",
        "\n",
        "i. Aplíquese el método sobre g(x,y) con x0 = (−1,1), γ = 0.01, tol=1e-12, maxit=1e5.\n",
        "\n",
        "ii. ¿Qué ocurre si ahora partimos de x0 = (0, 0)? ¿Se obtiene un resultado deseable?\n",
        "\n",
        "iii. Realícese el estudio analítico de la función y utilícese para explicar y contrastar los resultados obtenidos en los dos apartados anteriores."
      ]
    },
    {
      "cell_type": "code",
      "execution_count": null,
      "id": "aa337141",
      "metadata": {
        "id": "aa337141"
      },
      "outputs": [],
      "source": [
        "# i)\n",
        "\n",
        "#FALTA"
      ]
    },
    {
      "cell_type": "code",
      "execution_count": null,
      "id": "a22465ee",
      "metadata": {
        "id": "a22465ee"
      },
      "outputs": [],
      "source": [
        "# ii)\n",
        "\n",
        "#FALTA"
      ]
    },
    {
      "cell_type": "code",
      "execution_count": null,
      "id": "b9986333",
      "metadata": {
        "id": "b9986333"
      },
      "outputs": [],
      "source": [
        "# iii)\n",
        "\n",
        "#FALTA"
      ]
    }
  ],
  "metadata": {
    "kernelspec": {
      "display_name": "Python 3 (ipykernel)",
      "language": "python",
      "name": "python3"
    },
    "language_info": {
      "codemirror_mode": {
        "name": "ipython",
        "version": 3
      },
      "file_extension": ".py",
      "mimetype": "text/x-python",
      "name": "python",
      "nbconvert_exporter": "python",
      "pygments_lexer": "ipython3",
      "version": "3.11.7"
    },
    "colab": {
      "provenance": []
    }
  },
  "nbformat": 4,
  "nbformat_minor": 5
}